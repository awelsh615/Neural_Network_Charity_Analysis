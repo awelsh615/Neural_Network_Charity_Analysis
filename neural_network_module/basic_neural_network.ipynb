{
 "cells": [
  {
   "cell_type": "markdown",
   "metadata": {},
   "source": [
    "## 19.2.3 First Neural Network"
   ]
  },
  {
   "cell_type": "code",
   "execution_count": 52,
   "metadata": {},
   "outputs": [],
   "source": [
    "# Import our dependencies\n",
    "import pandas as pd\n",
    "import matplotlib as plt\n",
    "from sklearn.datasets import make_blobs\n",
    "import sklearn as skl\n",
    "import tensorflow as tf\n",
    "from sklearn.model_selection import train_test_split"
   ]
  },
  {
   "cell_type": "code",
   "execution_count": 53,
   "metadata": {},
   "outputs": [
    {
     "data": {
      "text/plain": [
       "<AxesSubplot:xlabel='Feature 1', ylabel='Feature 2'>"
      ]
     },
     "execution_count": 53,
     "metadata": {},
     "output_type": "execute_result"
    },
    {
     "data": {
      "image/png": "[encoded data removed]",
      "text/plain": [
       "<Figure size 648x216 with 2 Axes>"
      ]
     },
     "metadata": {
      "needs_background": "light"
     },
     "output_type": "display_data"
    }
   ],
   "source": [
    "# Generate dummy dataset\n",
    "X, y = make_blobs(n_samples=1000, centers=2, n_features=2, random_state=78)\n",
    "\n",
    "# Creating a DataFrame with the dummy data\n",
    "df = pd.DataFrame(X, columns=[\"Feature 1\", \"Feature 2\"])\n",
    "df[\"Target\"] = y\n",
    "\n",
    "# Plotting the dummy data\n",
    "df.plot.scatter(figsize = (9,3), x=\"Feature 1\", y=\"Feature 2\", c=\"Target\", colormap=\"winter\")"
   ]
  },
  {
   "cell_type": "code",
   "execution_count": 54,
   "metadata": {},
   "outputs": [],
   "source": [
    "# Use sklearn to split dataset\n",
    "X_train, X_test, y_train, y_test = train_test_split(X,y, random_state = 42)"
   ]
  },
  {
   "cell_type": "code",
   "execution_count": 55,
   "metadata": {},
   "outputs": [],
   "source": [
    "# Create scaler instance\n",
    "X_scaler = skl.preprocessing.StandardScaler()\n",
    "\n",
    "# Fit the scaler\n",
    "X_scaler.fit(X_train)\n",
    "\n",
    "# Scale the data\n",
    "X_train_scaled = X_scaler.transform(X_train)\n",
    "X_test_scaled = X_scaler.transform(X_test)"
   ]
  },
  {
   "cell_type": "code",
   "execution_count": 56,
   "metadata": {},
   "outputs": [],
   "source": [
    "# Create the Keras Sequential model\n",
    "# nn_model stores the entire architecture of our neural network model\n",
    "nn_model = tf.keras.models.Sequential()"
   ]
  },
  {
   "cell_type": "code",
   "execution_count": 57,
   "metadata": {},
   "outputs": [],
   "source": [
    "# Add our first Dense layer, including the input layer\n",
    "# Defining an activation function as part of the first layer is suggested but not required.  \n",
    "# By default, a dense layer will look for linear relationships\n",
    "nn_model.add(tf.keras.layers.Dense(units=1, activation=\"relu\", input_dim=2))"
   ]
  },
  {
   "cell_type": "code",
   "execution_count": 58,
   "metadata": {},
   "outputs": [],
   "source": [
    "# Add the output layer that uses a probability activation function\n",
    "nn_model.add(tf.keras.layers.Dense(units=1, activation=\"sigmoid\"))"
   ]
  },
  {
   "cell_type": "code",
   "execution_count": 59,
   "metadata": {},
   "outputs": [
    {
     "name": "stdout",
     "output_type": "stream",
     "text": [
      "Model: \"sequential_4\"\n",
      "_________________________________________________________________\n",
      "Layer (type)                 Output Shape              Param #   \n",
      "=================================================================\n",
      "dense_8 (Dense)              (None, 1)                 3         \n",
      "_________________________________________________________________\n",
      "dense_9 (Dense)              (None, 1)                 2         \n",
      "=================================================================\n",
      "Total params: 5\n",
      "Trainable params: 5\n",
      "Non-trainable params: 0\n",
      "_________________________________________________________________\n"
     ]
    }
   ],
   "source": [
    "# Check the structure of the Sequential model\n",
    "nn_model.summary()"
   ]
  },
  {
   "cell_type": "code",
   "execution_count": 60,
   "metadata": {},
   "outputs": [],
   "source": [
    "# Compile the Sequential model together and customize metrics\n",
    "nn_model.compile(loss=\"binary_crossentropy\", optimizer=\"adam\", metrics=[\"accuracy\"])"
   ]
  },
  {
   "cell_type": "code",
   "execution_count": 61,
   "metadata": {},
   "outputs": [
    {
     "name": "stdout",
     "output_type": "stream",
     "text": [
      "Epoch 1/100\n",
      "24/24 [==============================] - 0s 870us/step - loss: 0.6851 - accuracy: 0.5160\n",
      "Epoch 2/100\n",
      "24/24 [==============================] - 0s 837us/step - loss: 0.6782 - accuracy: 0.5160\n",
      "Epoch 3/100\n",
      "24/24 [==============================] - 0s 563us/step - loss: 0.6692 - accuracy: 0.5160\n",
      "Epoch 4/100\n",
      "24/24 [==============================] - 0s 563us/step - loss: 0.6576 - accuracy: 0.6133\n",
      "Epoch 5/100\n",
      "24/24 [==============================] - 0s 607us/step - loss: 0.6438 - accuracy: 0.6107\n",
      "Epoch 6/100\n",
      "24/24 [==============================] - 0s 607us/step - loss: 0.6282 - accuracy: 0.9173\n",
      "Epoch 7/100\n",
      "24/24 [==============================] - 0s 607us/step - loss: 0.6120 - accuracy: 0.9533\n",
      "Epoch 8/100\n",
      "24/24 [==============================] - 0s 563us/step - loss: 0.5957 - accuracy: 0.9747\n",
      "Epoch 9/100\n",
      "24/24 [==============================] - 0s 650us/step - loss: 0.5792 - accuracy: 0.9893\n",
      "Epoch 10/100\n",
      "24/24 [==============================] - 0s 650us/step - loss: 0.5629 - accuracy: 0.9973\n",
      "Epoch 11/100\n",
      "24/24 [==============================] - 0s 607us/step - loss: 0.5467 - accuracy: 1.0000\n",
      "Epoch 12/100\n",
      "24/24 [==============================] - 0s 607us/step - loss: 0.5305 - accuracy: 1.0000\n",
      "Epoch 13/100\n",
      "24/24 [==============================] - 0s 564us/step - loss: 0.5143 - accuracy: 1.0000\n",
      "Epoch 14/100\n",
      "24/24 [==============================] - 0s 607us/step - loss: 0.4984 - accuracy: 1.0000\n",
      "Epoch 15/100\n",
      "24/24 [==============================] - 0s 607us/step - loss: 0.4826 - accuracy: 1.0000\n",
      "Epoch 16/100\n",
      "24/24 [==============================] - 0s 563us/step - loss: 0.4671 - accuracy: 1.0000\n",
      "Epoch 17/100\n",
      "24/24 [==============================] - 0s 650us/step - loss: 0.4521 - accuracy: 1.0000\n",
      "Epoch 18/100\n",
      "24/24 [==============================] - 0s 780us/step - loss: 0.4374 - accuracy: 1.0000\n",
      "Epoch 19/100\n",
      "24/24 [==============================] - 0s 563us/step - loss: 0.4231 - accuracy: 1.0000\n",
      "Epoch 20/100\n",
      "24/24 [==============================] - 0s 563us/step - loss: 0.4093 - accuracy: 1.0000\n",
      "Epoch 21/100\n",
      "24/24 [==============================] - 0s 607us/step - loss: 0.3960 - accuracy: 1.0000\n",
      "Epoch 22/100\n",
      "24/24 [==============================] - 0s 607us/step - loss: 0.3832 - accuracy: 1.0000\n",
      "Epoch 23/100\n",
      "24/24 [==============================] - 0s 607us/step - loss: 0.3709 - accuracy: 1.0000\n",
      "Epoch 24/100\n",
      "24/24 [==============================] - 0s 607us/step - loss: 0.3591 - accuracy: 1.0000\n",
      "Epoch 25/100\n",
      "24/24 [==============================] - 0s 693us/step - loss: 0.3478 - accuracy: 1.0000\n",
      "Epoch 26/100\n",
      "24/24 [==============================] - 0s 607us/step - loss: 0.3371 - accuracy: 1.0000\n",
      "Epoch 27/100\n",
      "24/24 [==============================] - 0s 563us/step - loss: 0.3268 - accuracy: 1.0000\n",
      "Epoch 28/100\n",
      "24/24 [==============================] - 0s 650us/step - loss: 0.3170 - accuracy: 1.0000\n",
      "Epoch 29/100\n",
      "24/24 [==============================] - 0s 650us/step - loss: 0.3076 - accuracy: 1.0000\n",
      "Epoch 30/100\n",
      "24/24 [==============================] - 0s 607us/step - loss: 0.2986 - accuracy: 1.0000\n",
      "Epoch 31/100\n",
      "24/24 [==============================] - 0s 607us/step - loss: 0.2900 - accuracy: 1.0000\n",
      "Epoch 32/100\n",
      "24/24 [==============================] - 0s 607us/step - loss: 0.2818 - accuracy: 1.0000\n",
      "Epoch 33/100\n",
      "24/24 [==============================] - 0s 563us/step - loss: 0.2739 - accuracy: 1.0000\n",
      "Epoch 34/100\n",
      "24/24 [==============================] - 0s 563us/step - loss: 0.2664 - accuracy: 1.0000\n",
      "Epoch 35/100\n",
      "24/24 [==============================] - 0s 563us/step - loss: 0.2592 - accuracy: 1.0000\n",
      "Epoch 36/100\n",
      "24/24 [==============================] - 0s 563us/step - loss: 0.2523 - accuracy: 1.0000\n",
      "Epoch 37/100\n",
      "24/24 [==============================] - 0s 607us/step - loss: 0.2457 - accuracy: 1.0000\n",
      "Epoch 38/100\n",
      "24/24 [==============================] - 0s 607us/step - loss: 0.2393 - accuracy: 1.0000\n",
      "Epoch 39/100\n",
      "24/24 [==============================] - 0s 563us/step - loss: 0.2332 - accuracy: 1.0000\n",
      "Epoch 40/100\n",
      "24/24 [==============================] - 0s 607us/step - loss: 0.2274 - accuracy: 1.0000\n",
      "Epoch 41/100\n",
      "24/24 [==============================] - 0s 607us/step - loss: 0.2218 - accuracy: 1.0000\n",
      "Epoch 42/100\n",
      "24/24 [==============================] - 0s 693us/step - loss: 0.2163 - accuracy: 1.0000\n",
      "Epoch 43/100\n",
      "24/24 [==============================] - 0s 823us/step - loss: 0.2112 - accuracy: 1.0000\n",
      "Epoch 44/100\n",
      "24/24 [==============================] - 0s 694us/step - loss: 0.2062 - accuracy: 1.0000\n",
      "Epoch 45/100\n",
      "24/24 [==============================] - 0s 737us/step - loss: 0.2013 - accuracy: 1.0000\n",
      "Epoch 46/100\n",
      "24/24 [==============================] - 0s 910us/step - loss: 0.1967 - accuracy: 1.0000\n",
      "Epoch 47/100\n",
      "24/24 [==============================] - 0s 737us/step - loss: 0.1922 - accuracy: 1.0000\n",
      "Epoch 48/100\n",
      "24/24 [==============================] - 0s 997us/step - loss: 0.1879 - accuracy: 1.0000\n",
      "Epoch 49/100\n",
      "24/24 [==============================] - 0s 953us/step - loss: 0.1837 - accuracy: 1.0000\n",
      "Epoch 50/100\n",
      "24/24 [==============================] - 0s 1ms/step - loss: 0.1797 - accuracy: 1.0000\n",
      "Epoch 51/100\n",
      "24/24 [==============================] - 0s 780us/step - loss: 0.1758 - accuracy: 1.0000\n",
      "Epoch 52/100\n",
      "24/24 [==============================] - 0s 867us/step - loss: 0.1720 - accuracy: 1.0000\n",
      "Epoch 53/100\n",
      "24/24 [==============================] - 0s 650us/step - loss: 0.1684 - accuracy: 1.0000\n",
      "Epoch 54/100\n",
      "24/24 [==============================] - 0s 693us/step - loss: 0.1648 - accuracy: 1.0000\n",
      "Epoch 55/100\n",
      "24/24 [==============================] - 0s 607us/step - loss: 0.1614 - accuracy: 1.0000\n",
      "Epoch 56/100\n",
      "24/24 [==============================] - 0s 607us/step - loss: 0.1581 - accuracy: 1.0000\n",
      "Epoch 57/100\n",
      "24/24 [==============================] - 0s 607us/step - loss: 0.1548 - accuracy: 1.0000\n",
      "Epoch 58/100\n",
      "24/24 [==============================] - 0s 564us/step - loss: 0.1517 - accuracy: 1.0000\n",
      "Epoch 59/100\n",
      "24/24 [==============================] - 0s 572us/step - loss: 0.1487 - accuracy: 1.0000\n",
      "Epoch 60/100\n",
      "24/24 [==============================] - 0s 650us/step - loss: 0.1458 - accuracy: 1.0000\n",
      "Epoch 61/100\n",
      "24/24 [==============================] - 0s 607us/step - loss: 0.1430 - accuracy: 1.0000\n",
      "Epoch 62/100\n",
      "24/24 [==============================] - 0s 2ms/step - loss: 0.1402 - accuracy: 1.0000\n",
      "Epoch 63/100\n",
      "24/24 [==============================] - 0s 737us/step - loss: 0.1375 - accuracy: 1.0000\n",
      "Epoch 64/100\n",
      "24/24 [==============================] - 0s 780us/step - loss: 0.1348 - accuracy: 1.0000\n",
      "Epoch 65/100\n",
      "24/24 [==============================] - 0s 1ms/step - loss: 0.1323 - accuracy: 1.0000\n",
      "Epoch 66/100\n",
      "24/24 [==============================] - 0s 997us/step - loss: 0.1298 - accuracy: 1.0000\n",
      "Epoch 67/100\n",
      "24/24 [==============================] - 0s 867us/step - loss: 0.1274 - accuracy: 1.0000\n",
      "Epoch 68/100\n",
      "24/24 [==============================] - 0s 1ms/step - loss: 0.1250 - accuracy: 1.0000\n",
      "Epoch 69/100\n",
      "24/24 [==============================] - 0s 737us/step - loss: 0.1228 - accuracy: 1.0000\n",
      "Epoch 70/100\n",
      "24/24 [==============================] - 0s 650us/step - loss: 0.1205 - accuracy: 1.0000\n",
      "Epoch 71/100\n",
      "24/24 [==============================] - 0s 650us/step - loss: 0.1183 - accuracy: 1.0000\n",
      "Epoch 72/100\n",
      "24/24 [==============================] - 0s 607us/step - loss: 0.1162 - accuracy: 1.0000\n",
      "Epoch 73/100\n",
      "24/24 [==============================] - 0s 607us/step - loss: 0.1142 - accuracy: 1.0000\n",
      "Epoch 74/100\n",
      "24/24 [==============================] - 0s 607us/step - loss: 0.1121 - accuracy: 1.0000\n",
      "Epoch 75/100\n",
      "24/24 [==============================] - 0s 607us/step - loss: 0.1102 - accuracy: 1.0000\n",
      "Epoch 76/100\n",
      "24/24 [==============================] - 0s 607us/step - loss: 0.1083 - accuracy: 1.0000\n",
      "Epoch 77/100\n",
      "24/24 [==============================] - 0s 650us/step - loss: 0.1064 - accuracy: 1.0000\n",
      "Epoch 78/100\n",
      "24/24 [==============================] - 0s 607us/step - loss: 0.1046 - accuracy: 1.0000\n",
      "Epoch 79/100\n",
      "24/24 [==============================] - 0s 607us/step - loss: 0.1028 - accuracy: 1.0000\n",
      "Epoch 80/100\n",
      "24/24 [==============================] - 0s 650us/step - loss: 0.1010 - accuracy: 1.0000\n",
      "Epoch 81/100\n",
      "24/24 [==============================] - 0s 780us/step - loss: 0.0993 - accuracy: 1.0000\n",
      "Epoch 82/100\n",
      "24/24 [==============================] - 0s 780us/step - loss: 0.0977 - accuracy: 1.0000\n",
      "Epoch 83/100\n",
      "24/24 [==============================] - 0s 650us/step - loss: 0.0961 - accuracy: 1.0000\n",
      "Epoch 84/100\n",
      "24/24 [==============================] - 0s 954us/step - loss: 0.0945 - accuracy: 1.0000\n",
      "Epoch 85/100\n",
      "24/24 [==============================] - 0s 997us/step - loss: 0.0929 - accuracy: 1.0000\n",
      "Epoch 86/100\n",
      "24/24 [==============================] - 0s 910us/step - loss: 0.0914 - accuracy: 1.0000\n",
      "Epoch 87/100\n",
      "24/24 [==============================] - 0s 780us/step - loss: 0.0899 - accuracy: 1.0000\n",
      "Epoch 88/100\n",
      "24/24 [==============================] - 0s 866us/step - loss: 0.0885 - accuracy: 1.0000\n",
      "Epoch 89/100\n",
      "24/24 [==============================] - 0s 867us/step - loss: 0.0871 - accuracy: 1.0000\n",
      "Epoch 90/100\n",
      "24/24 [==============================] - 0s 737us/step - loss: 0.0857 - accuracy: 1.0000\n",
      "Epoch 91/100\n",
      "24/24 [==============================] - 0s 780us/step - loss: 0.0843 - accuracy: 1.0000\n",
      "Epoch 92/100\n",
      "24/24 [==============================] - 0s 650us/step - loss: 0.0830 - accuracy: 1.0000\n",
      "Epoch 93/100\n",
      "24/24 [==============================] - 0s 737us/step - loss: 0.0817 - accuracy: 1.0000\n",
      "Epoch 94/100\n",
      "24/24 [==============================] - 0s 780us/step - loss: 0.0804 - accuracy: 1.0000\n",
      "Epoch 95/100\n",
      "24/24 [==============================] - 0s 824us/step - loss: 0.0792 - accuracy: 1.0000\n",
      "Epoch 96/100\n",
      "24/24 [==============================] - 0s 910us/step - loss: 0.0779 - accuracy: 1.0000\n",
      "Epoch 97/100\n",
      "24/24 [==============================] - 0s 997us/step - loss: 0.0768 - accuracy: 1.0000\n",
      "Epoch 98/100\n",
      "24/24 [==============================] - 0s 954us/step - loss: 0.0756 - accuracy: 1.0000\n",
      "Epoch 99/100\n",
      "24/24 [==============================] - 0s 867us/step - loss: 0.0744 - accuracy: 1.0000\n",
      "Epoch 100/100\n",
      "24/24 [==============================] - 0s 693us/step - loss: 0.0733 - accuracy: 1.0000\n"
     ]
    }
   ],
   "source": [
    "# Fit the model to the training data\n",
    "fit_model = nn_model.fit(X_train_scaled, y_train, epochs=100)"
   ]
  },
  {
   "cell_type": "code",
   "execution_count": 62,
   "metadata": {},
   "outputs": [
    {
     "data": {
      "text/plain": [
       "<AxesSubplot:>"
      ]
     },
     "execution_count": 62,
     "metadata": {},
     "output_type": "execute_result"
    },
    {
     "data": {
      "image/png": "[encoded data removed]",
      "text/plain": [
       "<Figure size 432x288 with 1 Axes>"
      ]
     },
     "metadata": {
      "needs_background": "light"
     },
     "output_type": "display_data"
    }
   ],
   "source": [
    "# Create a DataFrame containing training history\n",
    "history_df = pd.DataFrame(fit_model.history, index=range(1,len(fit_model.history[\"loss\"])+1))\n",
    "\n",
    "# Plot the loss\n",
    "history_df.plot(y=\"loss\")"
   ]
  },
  {
   "cell_type": "code",
   "execution_count": 63,
   "metadata": {},
   "outputs": [
    {
     "data": {
      "text/plain": [
       "<AxesSubplot:>"
      ]
     },
     "execution_count": 63,
     "metadata": {},
     "output_type": "execute_result"
    },
    {
     "data": {
      "image/png": "[encoded data removed]",
      "text/plain": [
       "<Figure size 432x288 with 1 Axes>"
      ]
     },
     "metadata": {
      "needs_background": "light"
     },
     "output_type": "display_data"
    }
   ],
   "source": [
    "# Plot the accuracy\n",
    "history_df.plot(y=\"accuracy\")"
   ]
  },
  {
   "cell_type": "code",
   "execution_count": 64,
   "metadata": {},
   "outputs": [
    {
     "name": "stdout",
     "output_type": "stream",
     "text": [
      "8/8 - 0s - loss: 0.0806 - accuracy: 1.0000\n",
      "Loss: 0.08059484511613846, Accuracy: 1.0\n"
     ]
    }
   ],
   "source": [
    "# Evaluate the model using the test data\n",
    "model_loss, model_accuracy = nn_model.evaluate(X_test_scaled,y_test,verbose=2)\n",
    "print(f\"Loss: {model_loss}, Accuracy: {model_accuracy}\")"
   ]
  },
  {
   "cell_type": "code",
   "execution_count": 65,
   "metadata": {},
   "outputs": [
    {
     "data": {
      "text/plain": [
       "array([[0],\n",
       "       [1],\n",
       "       [0],\n",
       "       [1],\n",
       "       [0],\n",
       "       [0],\n",
       "       [1],\n",
       "       [1],\n",
       "       [1],\n",
       "       [0]])"
      ]
     },
     "execution_count": 65,
     "metadata": {},
     "output_type": "execute_result"
    }
   ],
   "source": [
    "# Predict the classification of a new set of blob data\n",
    "new_X, new_Y = make_blobs(n_samples=10, centers=2, n_features=2, random_state=78)\n",
    "new_X_scaled = X_scaler.transform(new_X)\n",
    "(nn_model.predict(new_X_scaled) > 0.5).astype(\"int32\")"
   ]
  },
  {
   "cell_type": "markdown",
   "metadata": {},
   "source": [
    "## 19.2.4 Nonlinear Data"
   ]
  },
  {
   "cell_type": "code",
   "execution_count": 67,
   "metadata": {},
   "outputs": [
    {
     "data": {
      "text/plain": [
       "<AxesSubplot:xlabel='Feature 1', ylabel='Feature 2'>"
      ]
     },
     "execution_count": 67,
     "metadata": {},
     "output_type": "execute_result"
    },
    {
     "data": {
      "image/png": "[encoded data removed]",
      "text/plain": [
       "<Figure size 432x288 with 2 Axes>"
      ]
     },
     "metadata": {
      "needs_background": "light"
     },
     "output_type": "display_data"
    }
   ],
   "source": [
    "from sklearn.datasets import make_moons\n",
    "\n",
    "# Creating dummy nonlinear data\n",
    "X_moons, y_moons = make_moons(n_samples=1000, noise=0.08, random_state=78)\n",
    "\n",
    "# Transforming y_moons to a vertical vector\n",
    "y_moons = y_moons.reshape(-1, 1)\n",
    "\n",
    "# Creating a DataFrame to plot the nonlinear dummy data\n",
    "df_moons = pd.DataFrame(X_moons, columns=[\"Feature 1\", \"Feature 2\"])\n",
    "df_moons[\"Target\"] = y_moons\n",
    "\n",
    "# Plot the nonlinear dummy data\n",
    "df_moons.plot.scatter(x=\"Feature 1\",y=\"Feature 2\", c=\"Target\",colormap=\"winter\")"
   ]
  },
  {
   "cell_type": "code",
   "execution_count": 68,
   "metadata": {},
   "outputs": [],
   "source": [
    "# Create training and testing sets\n",
    "X_moon_train, X_moon_test, y_moon_train, y_moon_test = train_test_split(\n",
    "    X_moons, y_moons, random_state=78\n",
    ")\n",
    "\n",
    "# Create the scaler instance\n",
    "X_moon_scaler = skl.preprocessing.StandardScaler()\n",
    "\n",
    "# Fit the scaler\n",
    "X_moon_scaler.fit(X_moon_train)\n",
    "\n",
    "# Scale the data\n",
    "X_moon_train_scaled = X_moon_scaler.transform(X_moon_train)\n",
    "X_moon_test_scaled = X_moon_scaler.transform(X_moon_test)"
   ]
  },
  {
   "cell_type": "code",
   "execution_count": 69,
   "metadata": {},
   "outputs": [
    {
     "name": "stdout",
     "output_type": "stream",
     "text": [
      "Epoch 1/100\n",
      "24/24 [==============================] - 0s 978us/step - loss: 0.8648 - accuracy: 0.5667\n",
      "Epoch 2/100\n",
      "24/24 [==============================] - 0s 3ms/step - loss: 0.7622 - accuracy: 0.5867\n",
      "Epoch 3/100\n",
      "24/24 [==============================] - 0s 1ms/step - loss: 0.6919 - accuracy: 0.6027\n",
      "Epoch 4/100\n",
      "24/24 [==============================] - 0s 1ms/step - loss: 0.6402 - accuracy: 0.6200\n",
      "Epoch 5/100\n",
      "24/24 [==============================] - 0s 1ms/step - loss: 0.6027 - accuracy: 0.6400\n",
      "Epoch 6/100\n",
      "24/24 [==============================] - 0s 1ms/step - loss: 0.5717 - accuracy: 0.6627\n",
      "Epoch 7/100\n",
      "24/24 [==============================] - 0s 1ms/step - loss: 0.5461 - accuracy: 0.6707\n",
      "Epoch 8/100\n",
      "24/24 [==============================] - 0s 1ms/step - loss: 0.5244 - accuracy: 0.6800\n",
      "Epoch 9/100\n",
      "24/24 [==============================] - 0s 1ms/step - loss: 0.5053 - accuracy: 0.6933\n",
      "Epoch 10/100\n",
      "24/24 [==============================] - 0s 1ms/step - loss: 0.4884 - accuracy: 0.7067\n",
      "Epoch 11/100\n",
      "24/24 [==============================] - 0s 1ms/step - loss: 0.4733 - accuracy: 0.7120\n",
      "Epoch 12/100\n",
      "24/24 [==============================] - 0s 1ms/step - loss: 0.4596 - accuracy: 0.7187\n",
      "Epoch 13/100\n",
      "24/24 [==============================] - 0s 1ms/step - loss: 0.4468 - accuracy: 0.7333\n",
      "Epoch 14/100\n",
      "24/24 [==============================] - 0s 1ms/step - loss: 0.4354 - accuracy: 0.7360\n",
      "Epoch 15/100\n",
      "24/24 [==============================] - 0s 1ms/step - loss: 0.4247 - accuracy: 0.7533\n",
      "Epoch 16/100\n",
      "24/24 [==============================] - 0s 1ms/step - loss: 0.4149 - accuracy: 0.7653\n",
      "Epoch 17/100\n",
      "24/24 [==============================] - 0s 1ms/step - loss: 0.4054 - accuracy: 0.7760\n",
      "Epoch 18/100\n",
      "24/24 [==============================] - 0s 1ms/step - loss: 0.3969 - accuracy: 0.7787\n",
      "Epoch 19/100\n",
      "24/24 [==============================] - 0s 1ms/step - loss: 0.3885 - accuracy: 0.7827\n",
      "Epoch 20/100\n",
      "24/24 [==============================] - 0s 1ms/step - loss: 0.3806 - accuracy: 0.7907\n",
      "Epoch 21/100\n",
      "24/24 [==============================] - 0s 1ms/step - loss: 0.3732 - accuracy: 0.7907\n",
      "Epoch 22/100\n",
      "24/24 [==============================] - 0s 1ms/step - loss: 0.3662 - accuracy: 0.7960\n",
      "Epoch 23/100\n",
      "24/24 [==============================] - 0s 1ms/step - loss: 0.3598 - accuracy: 0.8067\n",
      "Epoch 24/100\n",
      "24/24 [==============================] - 0s 1ms/step - loss: 0.3538 - accuracy: 0.8120\n",
      "Epoch 25/100\n",
      "24/24 [==============================] - 0s 1ms/step - loss: 0.3482 - accuracy: 0.8173\n",
      "Epoch 26/100\n",
      "24/24 [==============================] - 0s 1ms/step - loss: 0.3430 - accuracy: 0.8200\n",
      "Epoch 27/100\n",
      "24/24 [==============================] - 0s 1ms/step - loss: 0.3382 - accuracy: 0.8227\n",
      "Epoch 28/100\n",
      "24/24 [==============================] - 0s 1ms/step - loss: 0.3336 - accuracy: 0.8253\n",
      "Epoch 29/100\n",
      "24/24 [==============================] - 0s 1ms/step - loss: 0.3294 - accuracy: 0.8307\n",
      "Epoch 30/100\n",
      "24/24 [==============================] - 0s 1ms/step - loss: 0.3255 - accuracy: 0.8307\n",
      "Epoch 31/100\n",
      "24/24 [==============================] - 0s 1ms/step - loss: 0.3219 - accuracy: 0.8307\n",
      "Epoch 32/100\n",
      "24/24 [==============================] - 0s 1ms/step - loss: 0.3185 - accuracy: 0.8320\n",
      "Epoch 33/100\n",
      "24/24 [==============================] - 0s 1ms/step - loss: 0.3152 - accuracy: 0.8360\n",
      "Epoch 34/100\n",
      "24/24 [==============================] - 0s 997us/step - loss: 0.3122 - accuracy: 0.8400\n",
      "Epoch 35/100\n",
      "24/24 [==============================] - 0s 1ms/step - loss: 0.3093 - accuracy: 0.8400\n",
      "Epoch 36/100\n",
      "24/24 [==============================] - 0s 997us/step - loss: 0.3067 - accuracy: 0.8453\n",
      "Epoch 37/100\n",
      "24/24 [==============================] - 0s 1ms/step - loss: 0.3042 - accuracy: 0.8493\n",
      "Epoch 38/100\n",
      "24/24 [==============================] - 0s 953us/step - loss: 0.3020 - accuracy: 0.8520\n",
      "Epoch 39/100\n",
      "24/24 [==============================] - 0s 1ms/step - loss: 0.2997 - accuracy: 0.8533\n",
      "Epoch 40/100\n",
      "24/24 [==============================] - 0s 1ms/step - loss: 0.2976 - accuracy: 0.8573\n",
      "Epoch 41/100\n",
      "24/24 [==============================] - 0s 1ms/step - loss: 0.2957 - accuracy: 0.8613\n",
      "Epoch 42/100\n",
      "24/24 [==============================] - 0s 997us/step - loss: 0.2938 - accuracy: 0.8653\n",
      "Epoch 43/100\n",
      "24/24 [==============================] - 0s 1ms/step - loss: 0.2920 - accuracy: 0.8667\n",
      "Epoch 44/100\n",
      "24/24 [==============================] - 0s 954us/step - loss: 0.2904 - accuracy: 0.8667\n",
      "Epoch 45/100\n",
      "24/24 [==============================] - 0s 1ms/step - loss: 0.2887 - accuracy: 0.8667\n",
      "Epoch 46/100\n",
      "24/24 [==============================] - 0s 1ms/step - loss: 0.2873 - accuracy: 0.8667\n",
      "Epoch 47/100\n",
      "24/24 [==============================] - 0s 1ms/step - loss: 0.2859 - accuracy: 0.8667\n",
      "Epoch 48/100\n",
      "24/24 [==============================] - 0s 954us/step - loss: 0.2845 - accuracy: 0.8693\n",
      "Epoch 49/100\n",
      "24/24 [==============================] - 0s 1ms/step - loss: 0.2832 - accuracy: 0.8733\n",
      "Epoch 50/100\n",
      "24/24 [==============================] - 0s 1ms/step - loss: 0.2820 - accuracy: 0.8733\n",
      "Epoch 51/100\n",
      "24/24 [==============================] - 0s 1ms/step - loss: 0.2808 - accuracy: 0.8747\n",
      "Epoch 52/100\n",
      "24/24 [==============================] - 0s 997us/step - loss: 0.2796 - accuracy: 0.8760\n",
      "Epoch 53/100\n",
      "24/24 [==============================] - 0s 1ms/step - loss: 0.2786 - accuracy: 0.8773\n",
      "Epoch 54/100\n",
      "24/24 [==============================] - 0s 1ms/step - loss: 0.2775 - accuracy: 0.8773\n",
      "Epoch 55/100\n",
      "24/24 [==============================] - 0s 997us/step - loss: 0.2767 - accuracy: 0.8800\n",
      "Epoch 56/100\n",
      "24/24 [==============================] - 0s 1ms/step - loss: 0.2757 - accuracy: 0.8800\n",
      "Epoch 57/100\n",
      "24/24 [==============================] - 0s 1ms/step - loss: 0.2748 - accuracy: 0.8800\n",
      "Epoch 58/100\n",
      "24/24 [==============================] - 0s 1ms/step - loss: 0.2739 - accuracy: 0.8827\n",
      "Epoch 59/100\n",
      "24/24 [==============================] - 0s 997us/step - loss: 0.2731 - accuracy: 0.8813\n",
      "Epoch 60/100\n",
      "24/24 [==============================] - 0s 997us/step - loss: 0.2723 - accuracy: 0.8813\n",
      "Epoch 61/100\n",
      "24/24 [==============================] - 0s 1ms/step - loss: 0.2716 - accuracy: 0.8840\n",
      "Epoch 62/100\n",
      "24/24 [==============================] - 0s 997us/step - loss: 0.2708 - accuracy: 0.8840\n",
      "Epoch 63/100\n",
      "24/24 [==============================] - 0s 953us/step - loss: 0.2701 - accuracy: 0.8840\n",
      "Epoch 64/100\n",
      "24/24 [==============================] - 0s 1ms/step - loss: 0.2694 - accuracy: 0.8840\n",
      "Epoch 65/100\n",
      "24/24 [==============================] - 0s 1ms/step - loss: 0.2689 - accuracy: 0.8840\n",
      "Epoch 66/100\n",
      "24/24 [==============================] - 0s 1ms/step - loss: 0.2682 - accuracy: 0.8853\n",
      "Epoch 67/100\n",
      "24/24 [==============================] - 0s 1ms/step - loss: 0.2676 - accuracy: 0.8853\n",
      "Epoch 68/100\n",
      "24/24 [==============================] - 0s 1ms/step - loss: 0.2671 - accuracy: 0.8853\n",
      "Epoch 69/100\n",
      "24/24 [==============================] - 0s 1ms/step - loss: 0.2666 - accuracy: 0.8840\n",
      "Epoch 70/100\n",
      "24/24 [==============================] - 0s 997us/step - loss: 0.2661 - accuracy: 0.8840\n",
      "Epoch 71/100\n",
      "24/24 [==============================] - 0s 1ms/step - loss: 0.2655 - accuracy: 0.8853\n",
      "Epoch 72/100\n",
      "24/24 [==============================] - 0s 1ms/step - loss: 0.2652 - accuracy: 0.8827\n",
      "Epoch 73/100\n",
      "24/24 [==============================] - 0s 1ms/step - loss: 0.2646 - accuracy: 0.8853\n",
      "Epoch 74/100\n",
      "24/24 [==============================] - 0s 997us/step - loss: 0.2641 - accuracy: 0.8867\n",
      "Epoch 75/100\n",
      "24/24 [==============================] - 0s 1ms/step - loss: 0.2637 - accuracy: 0.8853\n",
      "Epoch 76/100\n",
      "24/24 [==============================] - 0s 1ms/step - loss: 0.2633 - accuracy: 0.8853\n",
      "Epoch 77/100\n",
      "24/24 [==============================] - 0s 1ms/step - loss: 0.2629 - accuracy: 0.8867\n",
      "Epoch 78/100\n",
      "24/24 [==============================] - 0s 1ms/step - loss: 0.2626 - accuracy: 0.8867\n",
      "Epoch 79/100\n",
      "24/24 [==============================] - 0s 1ms/step - loss: 0.2622 - accuracy: 0.8880\n",
      "Epoch 80/100\n",
      "24/24 [==============================] - 0s 1ms/step - loss: 0.2618 - accuracy: 0.8880\n",
      "Epoch 81/100\n",
      "24/24 [==============================] - 0s 1ms/step - loss: 0.2615 - accuracy: 0.8880\n",
      "Epoch 82/100\n",
      "24/24 [==============================] - 0s 1ms/step - loss: 0.2611 - accuracy: 0.8880\n",
      "Epoch 83/100\n",
      "24/24 [==============================] - 0s 1ms/step - loss: 0.2608 - accuracy: 0.8893\n",
      "Epoch 84/100\n",
      "24/24 [==============================] - 0s 1ms/step - loss: 0.2605 - accuracy: 0.8880\n",
      "Epoch 85/100\n",
      "24/24 [==============================] - 0s 1ms/step - loss: 0.2601 - accuracy: 0.8893\n",
      "Epoch 86/100\n",
      "24/24 [==============================] - 0s 1ms/step - loss: 0.2599 - accuracy: 0.8893\n",
      "Epoch 87/100\n",
      "24/24 [==============================] - 0s 1ms/step - loss: 0.2596 - accuracy: 0.8893\n",
      "Epoch 88/100\n",
      "24/24 [==============================] - 0s 1ms/step - loss: 0.2593 - accuracy: 0.8893\n",
      "Epoch 89/100\n",
      "24/24 [==============================] - 0s 2ms/step - loss: 0.2592 - accuracy: 0.8893\n",
      "Epoch 90/100\n",
      "24/24 [==============================] - 0s 1ms/step - loss: 0.2588 - accuracy: 0.8893\n",
      "Epoch 91/100\n",
      "24/24 [==============================] - 0s 1ms/step - loss: 0.2586 - accuracy: 0.8893\n",
      "Epoch 92/100\n",
      "24/24 [==============================] - 0s 1ms/step - loss: 0.2583 - accuracy: 0.8893\n",
      "Epoch 93/100\n",
      "24/24 [==============================] - 0s 1ms/step - loss: 0.2582 - accuracy: 0.8893\n",
      "Epoch 94/100\n",
      "24/24 [==============================] - 0s 1ms/step - loss: 0.2579 - accuracy: 0.8907\n",
      "Epoch 95/100\n",
      "24/24 [==============================] - 0s 953us/step - loss: 0.2577 - accuracy: 0.8907\n",
      "Epoch 96/100\n",
      "24/24 [==============================] - 0s 1ms/step - loss: 0.2576 - accuracy: 0.8920\n",
      "Epoch 97/100\n",
      "24/24 [==============================] - 0s 1ms/step - loss: 0.2573 - accuracy: 0.8920\n",
      "Epoch 98/100\n",
      "24/24 [==============================] - 0s 1ms/step - loss: 0.2571 - accuracy: 0.8920\n",
      "Epoch 99/100\n",
      "24/24 [==============================] - 0s 1ms/step - loss: 0.2569 - accuracy: 0.8920\n",
      "Epoch 100/100\n",
      "24/24 [==============================] - 0s 1ms/step - loss: 0.2567 - accuracy: 0.8933\n"
     ]
    }
   ],
   "source": [
    "# Training the model with the nonlinear data\n",
    "model_moon = nn_model.fit(X_moon_train_scaled, y_moon_train, epochs=100, shuffle=True)"
   ]
  },
  {
   "cell_type": "code",
   "execution_count": 70,
   "metadata": {},
   "outputs": [
    {
     "data": {
      "text/plain": [
       "<AxesSubplot:>"
      ]
     },
     "execution_count": 70,
     "metadata": {},
     "output_type": "execute_result"
    },
    {
     "data": {
      "image/png": "[encoded data removed]",
      "text/plain": [
       "<Figure size 432x288 with 1 Axes>"
      ]
     },
     "metadata": {
      "needs_background": "light"
     },
     "output_type": "display_data"
    }
   ],
   "source": [
    "# Create a DataFrame containing training history\n",
    "history_df = pd.DataFrame(model_moon.history, index=range(1,len(model_moon.history[\"loss\"])+1))\n",
    "\n",
    "# Plot the loss\n",
    "history_df.plot(y=\"loss\")"
   ]
  },
  {
   "cell_type": "code",
   "execution_count": 71,
   "metadata": {},
   "outputs": [
    {
     "data": {
      "text/plain": [
       "<AxesSubplot:>"
      ]
     },
     "execution_count": 71,
     "metadata": {},
     "output_type": "execute_result"
    },
    {
     "data": {
      "image/png": "[encoded data removed]",
      "text/plain": [
       "<Figure size 432x288 with 1 Axes>"
      ]
     },
     "metadata": {
      "needs_background": "light"
     },
     "output_type": "display_data"
    }
   ],
   "source": [
    "# Plot the accuracy\n",
    "history_df.plot(y=\"accuracy\")"
   ]
  },
  {
   "cell_type": "markdown",
   "metadata": {},
   "source": [
    "## Multiple Neuron Network"
   ]
  },
  {
   "cell_type": "markdown",
   "metadata": {},
   "source": [
    "### A good rule of thumb for a basic neural network is to have two to three times the amount of neurons in the hidden layer as the number of inputs."
   ]
  },
  {
   "cell_type": "code",
   "execution_count": 73,
   "metadata": {},
   "outputs": [],
   "source": [
    "# Generate our new Sequential model\n",
    "new_model = tf.keras.models.Sequential()"
   ]
  },
  {
   "cell_type": "code",
   "execution_count": 74,
   "metadata": {},
   "outputs": [],
   "source": [
    "# Add the input and hidden layer\n",
    "number_inputs = 2\n",
    "number_hidden_nodes = 6\n",
    "\n",
    "new_model.add(tf.keras.layers.Dense(units=number_hidden_nodes, activation=\"relu\", input_dim=number_inputs))\n",
    "\n",
    "# Add the output layer that uses a probability activation function\n",
    "new_model.add(tf.keras.layers.Dense(units=1, activation=\"sigmoid\"))"
   ]
  },
  {
   "cell_type": "code",
   "execution_count": 75,
   "metadata": {},
   "outputs": [
    {
     "name": "stdout",
     "output_type": "stream",
     "text": [
      "Epoch 1/100\n",
      "24/24 [==============================] - 0s 693us/step - loss: 0.6602 - accuracy: 0.7280\n",
      "Epoch 2/100\n",
      "24/24 [==============================] - 0s 650us/step - loss: 0.6346 - accuracy: 0.7667\n",
      "Epoch 3/100\n",
      "24/24 [==============================] - 0s 822us/step - loss: 0.6078 - accuracy: 0.7813\n",
      "Epoch 4/100\n",
      "24/24 [==============================] - 0s 823us/step - loss: 0.5801 - accuracy: 0.8240\n",
      "Epoch 5/100\n",
      "24/24 [==============================] - 0s 780us/step - loss: 0.5518 - accuracy: 0.8813\n",
      "Epoch 6/100\n",
      "24/24 [==============================] - 0s 867us/step - loss: 0.5235 - accuracy: 0.8867\n",
      "Epoch 7/100\n",
      "24/24 [==============================] - 0s 954us/step - loss: 0.4958 - accuracy: 0.8933\n",
      "Epoch 8/100\n",
      "24/24 [==============================] - 0s 780us/step - loss: 0.4692 - accuracy: 0.8960\n",
      "Epoch 9/100\n",
      "24/24 [==============================] - 0s 910us/step - loss: 0.4440 - accuracy: 0.8960\n",
      "Epoch 10/100\n",
      "24/24 [==============================] - 0s 910us/step - loss: 0.4204 - accuracy: 0.8960\n",
      "Epoch 11/100\n",
      "24/24 [==============================] - 0s 780us/step - loss: 0.3993 - accuracy: 0.8947\n",
      "Epoch 12/100\n",
      "24/24 [==============================] - 0s 823us/step - loss: 0.3804 - accuracy: 0.8947\n",
      "Epoch 13/100\n",
      "24/24 [==============================] - 0s 823us/step - loss: 0.3633 - accuracy: 0.8933\n",
      "Epoch 14/100\n",
      "24/24 [==============================] - 0s 867us/step - loss: 0.3483 - accuracy: 0.8920\n",
      "Epoch 15/100\n",
      "24/24 [==============================] - 0s 780us/step - loss: 0.3351 - accuracy: 0.8920\n",
      "Epoch 16/100\n",
      "24/24 [==============================] - 0s 867us/step - loss: 0.3232 - accuracy: 0.8907\n",
      "Epoch 17/100\n",
      "24/24 [==============================] - 0s 2ms/step - loss: 0.3132 - accuracy: 0.8907\n",
      "Epoch 18/100\n",
      "24/24 [==============================] - 0s 1ms/step - loss: 0.3045 - accuracy: 0.8907\n",
      "Epoch 19/100\n",
      "24/24 [==============================] - 0s 1ms/step - loss: 0.2970 - accuracy: 0.8920\n",
      "Epoch 20/100\n",
      "24/24 [==============================] - 0s 737us/step - loss: 0.2905 - accuracy: 0.8907\n",
      "Epoch 21/100\n",
      "24/24 [==============================] - 0s 737us/step - loss: 0.2848 - accuracy: 0.8920\n",
      "Epoch 22/100\n",
      "24/24 [==============================] - 0s 780us/step - loss: 0.2799 - accuracy: 0.8920\n",
      "Epoch 23/100\n",
      "24/24 [==============================] - 0s 780us/step - loss: 0.2754 - accuracy: 0.8947\n",
      "Epoch 24/100\n",
      "24/24 [==============================] - 0s 736us/step - loss: 0.2716 - accuracy: 0.8933\n",
      "Epoch 25/100\n",
      "24/24 [==============================] - 0s 780us/step - loss: 0.2682 - accuracy: 0.8947\n",
      "Epoch 26/100\n",
      "24/24 [==============================] - 0s 824us/step - loss: 0.2653 - accuracy: 0.8960\n",
      "Epoch 27/100\n",
      "24/24 [==============================] - 0s 823us/step - loss: 0.2626 - accuracy: 0.8933\n",
      "Epoch 28/100\n",
      "24/24 [==============================] - 0s 694us/step - loss: 0.2602 - accuracy: 0.8933\n",
      "Epoch 29/100\n",
      "24/24 [==============================] - 0s 780us/step - loss: 0.2582 - accuracy: 0.8933\n",
      "Epoch 30/100\n",
      "24/24 [==============================] - 0s 737us/step - loss: 0.2562 - accuracy: 0.8947\n",
      "Epoch 31/100\n",
      "24/24 [==============================] - 0s 737us/step - loss: 0.2545 - accuracy: 0.8947\n",
      "Epoch 32/100\n",
      "24/24 [==============================] - 0s 780us/step - loss: 0.2530 - accuracy: 0.8947\n",
      "Epoch 33/100\n",
      "24/24 [==============================] - 0s 738us/step - loss: 0.2515 - accuracy: 0.8933\n",
      "Epoch 34/100\n",
      "24/24 [==============================] - 0s 737us/step - loss: 0.2504 - accuracy: 0.8920\n",
      "Epoch 35/100\n",
      "24/24 [==============================] - 0s 693us/step - loss: 0.2494 - accuracy: 0.8920\n",
      "Epoch 36/100\n",
      "24/24 [==============================] - 0s 823us/step - loss: 0.2483 - accuracy: 0.8920\n",
      "Epoch 37/100\n",
      "24/24 [==============================] - 0s 780us/step - loss: 0.2474 - accuracy: 0.8920\n",
      "Epoch 38/100\n",
      "24/24 [==============================] - 0s 780us/step - loss: 0.2467 - accuracy: 0.8920\n",
      "Epoch 39/100\n",
      "24/24 [==============================] - 0s 737us/step - loss: 0.2460 - accuracy: 0.8933\n",
      "Epoch 40/100\n",
      "24/24 [==============================] - 0s 1ms/step - loss: 0.2453 - accuracy: 0.8920\n",
      "Epoch 41/100\n",
      "24/24 [==============================] - 0s 737us/step - loss: 0.2448 - accuracy: 0.8933\n",
      "Epoch 42/100\n",
      "24/24 [==============================] - 0s 867us/step - loss: 0.2442 - accuracy: 0.8933\n",
      "Epoch 43/100\n",
      "24/24 [==============================] - 0s 780us/step - loss: 0.2436 - accuracy: 0.8933\n",
      "Epoch 44/100\n",
      "24/24 [==============================] - 0s 737us/step - loss: 0.2431 - accuracy: 0.8933\n",
      "Epoch 45/100\n",
      "24/24 [==============================] - 0s 781us/step - loss: 0.2428 - accuracy: 0.8933\n",
      "Epoch 46/100\n",
      "24/24 [==============================] - 0s 823us/step - loss: 0.2423 - accuracy: 0.8933\n",
      "Epoch 47/100\n",
      "24/24 [==============================] - 0s 780us/step - loss: 0.2419 - accuracy: 0.8933\n",
      "Epoch 48/100\n",
      "24/24 [==============================] - 0s 780us/step - loss: 0.2415 - accuracy: 0.8947\n",
      "Epoch 49/100\n",
      "24/24 [==============================] - 0s 780us/step - loss: 0.2411 - accuracy: 0.8947\n",
      "Epoch 50/100\n",
      "24/24 [==============================] - 0s 737us/step - loss: 0.2408 - accuracy: 0.8947\n",
      "Epoch 51/100\n",
      "24/24 [==============================] - 0s 867us/step - loss: 0.2403 - accuracy: 0.8947\n",
      "Epoch 52/100\n",
      "24/24 [==============================] - 0s 780us/step - loss: 0.2400 - accuracy: 0.8947\n",
      "Epoch 53/100\n",
      "24/24 [==============================] - 0s 737us/step - loss: 0.2396 - accuracy: 0.8947\n",
      "Epoch 54/100\n",
      "24/24 [==============================] - 0s 867us/step - loss: 0.2393 - accuracy: 0.8960\n",
      "Epoch 55/100\n",
      "24/24 [==============================] - 0s 823us/step - loss: 0.2390 - accuracy: 0.8960\n",
      "Epoch 56/100\n",
      "24/24 [==============================] - 0s 780us/step - loss: 0.2386 - accuracy: 0.8960\n",
      "Epoch 57/100\n",
      "24/24 [==============================] - 0s 867us/step - loss: 0.2382 - accuracy: 0.8960\n",
      "Epoch 58/100\n",
      "24/24 [==============================] - 0s 867us/step - loss: 0.2380 - accuracy: 0.8960\n",
      "Epoch 59/100\n",
      "24/24 [==============================] - 0s 737us/step - loss: 0.2377 - accuracy: 0.8960\n",
      "Epoch 60/100\n",
      "24/24 [==============================] - 0s 823us/step - loss: 0.2373 - accuracy: 0.8973\n",
      "Epoch 61/100\n",
      "24/24 [==============================] - 0s 780us/step - loss: 0.2370 - accuracy: 0.8973\n",
      "Epoch 62/100\n",
      "24/24 [==============================] - 0s 780us/step - loss: 0.2367 - accuracy: 0.8973\n",
      "Epoch 63/100\n",
      "24/24 [==============================] - 0s 822us/step - loss: 0.2364 - accuracy: 0.8973\n",
      "Epoch 64/100\n",
      "24/24 [==============================] - 0s 823us/step - loss: 0.2360 - accuracy: 0.8973\n",
      "Epoch 65/100\n",
      "24/24 [==============================] - 0s 737us/step - loss: 0.2357 - accuracy: 0.8973\n",
      "Epoch 66/100\n",
      "24/24 [==============================] - 0s 867us/step - loss: 0.2354 - accuracy: 0.8987\n",
      "Epoch 67/100\n",
      "24/24 [==============================] - 0s 780us/step - loss: 0.2354 - accuracy: 0.8987\n",
      "Epoch 68/100\n",
      "24/24 [==============================] - 0s 737us/step - loss: 0.2347 - accuracy: 0.8987\n",
      "Epoch 69/100\n",
      "24/24 [==============================] - 0s 823us/step - loss: 0.2345 - accuracy: 0.8987\n",
      "Epoch 70/100\n",
      "24/24 [==============================] - 0s 780us/step - loss: 0.2341 - accuracy: 0.8987\n",
      "Epoch 71/100\n",
      "24/24 [==============================] - 0s 737us/step - loss: 0.2338 - accuracy: 0.9000\n",
      "Epoch 72/100\n",
      "24/24 [==============================] - 0s 823us/step - loss: 0.2334 - accuracy: 0.9000\n",
      "Epoch 73/100\n",
      "24/24 [==============================] - 0s 737us/step - loss: 0.2332 - accuracy: 0.9000\n",
      "Epoch 74/100\n",
      "24/24 [==============================] - 0s 737us/step - loss: 0.2329 - accuracy: 0.9013\n",
      "Epoch 75/100\n",
      "24/24 [==============================] - 0s 866us/step - loss: 0.2326 - accuracy: 0.9013\n",
      "Epoch 76/100\n",
      "24/24 [==============================] - 0s 953us/step - loss: 0.2323 - accuracy: 0.9013\n",
      "Epoch 77/100\n",
      "24/24 [==============================] - 0s 996us/step - loss: 0.2320 - accuracy: 0.9013\n",
      "Epoch 78/100\n",
      "24/24 [==============================] - 0s 1ms/step - loss: 0.2317 - accuracy: 0.9013\n",
      "Epoch 79/100\n",
      "24/24 [==============================] - 0s 1ms/step - loss: 0.2315 - accuracy: 0.9013\n",
      "Epoch 80/100\n",
      "24/24 [==============================] - 0s 1ms/step - loss: 0.2311 - accuracy: 0.9013\n",
      "Epoch 81/100\n",
      "24/24 [==============================] - 0s 1ms/step - loss: 0.2309 - accuracy: 0.9013\n",
      "Epoch 82/100\n",
      "24/24 [==============================] - 0s 953us/step - loss: 0.2306 - accuracy: 0.9013\n",
      "Epoch 83/100\n",
      "24/24 [==============================] - 0s 736us/step - loss: 0.2303 - accuracy: 0.9013\n",
      "Epoch 84/100\n",
      "24/24 [==============================] - 0s 1ms/step - loss: 0.2300 - accuracy: 0.9013\n",
      "Epoch 85/100\n",
      "24/24 [==============================] - 0s 1ms/step - loss: 0.2297 - accuracy: 0.9013\n",
      "Epoch 86/100\n",
      "24/24 [==============================] - 0s 824us/step - loss: 0.2294 - accuracy: 0.9013\n",
      "Epoch 87/100\n",
      "24/24 [==============================] - 0s 823us/step - loss: 0.2292 - accuracy: 0.9013\n",
      "Epoch 88/100\n",
      "24/24 [==============================] - 0s 823us/step - loss: 0.2290 - accuracy: 0.9013\n",
      "Epoch 89/100\n",
      "24/24 [==============================] - 0s 867us/step - loss: 0.2287 - accuracy: 0.9027\n",
      "Epoch 90/100\n",
      "24/24 [==============================] - 0s 965us/step - loss: 0.2284 - accuracy: 0.9027\n",
      "Epoch 91/100\n",
      "24/24 [==============================] - 0s 1ms/step - loss: 0.2283 - accuracy: 0.9027\n",
      "Epoch 92/100\n",
      "24/24 [==============================] - 0s 693us/step - loss: 0.2278 - accuracy: 0.9027\n",
      "Epoch 93/100\n",
      "24/24 [==============================] - 0s 780us/step - loss: 0.2274 - accuracy: 0.9027\n",
      "Epoch 94/100\n",
      "24/24 [==============================] - 0s 693us/step - loss: 0.2272 - accuracy: 0.9027\n",
      "Epoch 95/100\n",
      "24/24 [==============================] - 0s 823us/step - loss: 0.2270 - accuracy: 0.9027\n",
      "Epoch 96/100\n",
      "24/24 [==============================] - 0s 693us/step - loss: 0.2266 - accuracy: 0.9027\n",
      "Epoch 97/100\n",
      "24/24 [==============================] - 0s 823us/step - loss: 0.2263 - accuracy: 0.9027\n",
      "Epoch 98/100\n",
      "24/24 [==============================] - 0s 736us/step - loss: 0.2260 - accuracy: 0.9013\n",
      "Epoch 99/100\n",
      "24/24 [==============================] - 0s 780us/step - loss: 0.2257 - accuracy: 0.9013\n",
      "Epoch 100/100\n",
      "24/24 [==============================] - 0s 780us/step - loss: 0.2254 - accuracy: 0.9013\n"
     ]
    }
   ],
   "source": [
    "# Compile the Sequential model together and customize metrics\n",
    "new_model.compile(loss=\"binary_crossentropy\", optimizer=\"adam\", metrics=[\"accuracy\"])\n",
    "\n",
    "# Fit the model to the training data\n",
    "new_fit_model = new_model.fit(X_moon_train_scaled, y_moon_train, epochs=100, shuffle=True)"
   ]
  },
  {
   "cell_type": "code",
   "execution_count": null,
   "metadata": {},
   "outputs": [],
   "source": []
  }
 ],
 "metadata": {
  "interpreter": {
   "hash": "6bbbf46ac35b3752c751a75b1a32432224dacc405cb55dd51db559f1ccadb36c"
  },
  "kernelspec": {
   "display_name": "Python 3.8.10 64-bit ('PyData': conda)",
   "name": "python3"
  },
  "language_info": {
   "codemirror_mode": {
    "name": "ipython",
    "version": 3
   },
   "file_extension": ".py",
   "mimetype": "text/x-python",
   "name": "python",
   "nbconvert_exporter": "python",
   "pygments_lexer": "ipython3",
   "version": "3.8.10"
  },
  "orig_nbformat": 4
 },
 "nbformat": 4,
 "nbformat_minor": 2
}
